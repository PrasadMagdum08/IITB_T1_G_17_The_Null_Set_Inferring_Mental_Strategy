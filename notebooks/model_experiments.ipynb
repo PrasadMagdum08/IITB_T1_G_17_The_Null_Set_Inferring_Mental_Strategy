{
 "cells": [
  {
   "cell_type": "code",
   "execution_count": null,
   "id": "080928a2",
   "metadata": {},
   "outputs": [],
   "source": [
    "from pathlib import Path\n",
    "import json\n",
    "import pandas as pd\n",
    "import pickle\n",
    "\n",
    "BASE_DIR = Path(\"../data/processed/merged_participants.csv\")\n",
    "\n",
    "with open('../config/config.json') as f:\n",
    "    config = json.load(f)"
   ]
  },
  {
   "cell_type": "code",
   "execution_count": 2,
   "id": "af1fefb7",
   "metadata": {},
   "outputs": [
    {
     "data": {
      "text/plain": [
       "(38, 9)"
      ]
     },
     "execution_count": 2,
     "metadata": {},
     "output_type": "execute_result"
    }
   ],
   "source": [
    "df = pd.read_csv(BASE_DIR)\n",
    "df.shape"
   ]
  },
  {
   "cell_type": "code",
   "execution_count": 3,
   "id": "cad03556",
   "metadata": {},
   "outputs": [
    {
     "data": {
      "text/plain": [
       "participant_id    0\n",
       "fixation_mean     1\n",
       "fixation_std      1\n",
       "n_fixations       0\n",
       "saccade_mean      0\n",
       "saccade_std       0\n",
       "n_saccades        0\n",
       "pupil_mean        0\n",
       "pupil_std         0\n",
       "dtype: int64"
      ]
     },
     "execution_count": 3,
     "metadata": {},
     "output_type": "execute_result"
    }
   ],
   "source": [
    "df.isnull().sum()"
   ]
  },
  {
   "cell_type": "code",
   "execution_count": 4,
   "id": "2aa67122",
   "metadata": {},
   "outputs": [],
   "source": [
    "numeric_cols = df.select_dtypes(include=['number']).columns\n",
    "df[numeric_cols] = df[numeric_cols].fillna(df[numeric_cols].mean())"
   ]
  },
  {
   "cell_type": "code",
   "execution_count": 5,
   "id": "71824807",
   "metadata": {},
   "outputs": [
    {
     "data": {
      "text/plain": [
       "participant_id    0\n",
       "fixation_mean     0\n",
       "fixation_std      0\n",
       "n_fixations       0\n",
       "saccade_mean      0\n",
       "saccade_std       0\n",
       "n_saccades        0\n",
       "pupil_mean        0\n",
       "pupil_std         0\n",
       "dtype: int64"
      ]
     },
     "execution_count": 5,
     "metadata": {},
     "output_type": "execute_result"
    }
   ],
   "source": [
    "df.isnull().sum()"
   ]
  },
  {
   "cell_type": "code",
   "execution_count": 6,
   "id": "fe194aa3",
   "metadata": {},
   "outputs": [],
   "source": [
    "from sklearn.preprocessing import StandardScaler\n",
    "from sklearn.cluster import KMeans\n",
    "from sklearn.metrics import silhouette_score"
   ]
  },
  {
   "cell_type": "code",
   "execution_count": 7,
   "id": "554a98b6",
   "metadata": {},
   "outputs": [],
   "source": [
    "feature_cols = [c for c in df.columns if c != 'participant_id']\n",
    "X = df[feature_cols]"
   ]
  },
  {
   "cell_type": "code",
   "execution_count": 8,
   "id": "9cad1a99",
   "metadata": {},
   "outputs": [],
   "source": [
    "scaler = StandardScaler()\n",
    "X_scaled = scaler.fit_transform(X)"
   ]
  },
  {
   "cell_type": "code",
   "execution_count": 9,
   "id": "e2d02d93",
   "metadata": {},
   "outputs": [
    {
     "name": "stdout",
     "output_type": "stream",
     "text": [
      "Silhouetter score:  0.549\n"
     ]
    }
   ],
   "source": [
    "kmeans = KMeans(\n",
    "    n_clusters=config['model_settings']['n_clusters'],\n",
    "    random_state=config['model_settings']['random_state'],\n",
    "    n_init=config['model_settings']['n_init']\n",
    ")\n",
    "\n",
    "df['cluster'] = kmeans.fit_predict(X_scaled)\n",
    "silhouette = silhouette_score(X_scaled, df[\"cluster\"])\n",
    "print(\"Silhouetter score: \", round(silhouette, 3))"
   ]
  },
  {
   "cell_type": "code",
   "execution_count": 10,
   "id": "a1059fff",
   "metadata": {},
   "outputs": [
    {
     "name": "stdout",
     "output_type": "stream",
     "text": [
      "\n",
      "Cluster centers (fixation_mean & n_saccades): \n",
      "         fixation_mean   n_saccades\n",
      "cluster                            \n",
      "0           359.152353  4584.363636\n",
      "1           211.708757  1719.200000\n"
     ]
    }
   ],
   "source": [
    "cluster_means = df.groupby('cluster')[[\"fixation_mean\", \"n_saccades\"]].mean()\n",
    "print(\"\\nCluster centers (fixation_mean & n_saccades): \")\n",
    "print(cluster_means)"
   ]
  },
  {
   "cell_type": "code",
   "execution_count": 12,
   "id": "d8374f27",
   "metadata": {},
   "outputs": [
    {
     "name": "stdout",
     "output_type": "stream",
     "text": [
      "\n",
      "Strategy assigned:\n",
      "    participant_id  cluster   strategy\n",
      "0                1        0  Piecemeal\n",
      "1               10        0  Piecemeal\n",
      "2               11        0  Piecemeal\n",
      "3               12        0  Piecemeal\n",
      "4               13        0  Piecemeal\n",
      "5               14        1   Holistic\n",
      "6               15        0  Piecemeal\n",
      "7               16        0  Piecemeal\n",
      "8               17        0  Piecemeal\n",
      "9               18        1   Holistic\n",
      "10              19        0  Piecemeal\n",
      "11               2        0  Piecemeal\n",
      "12              20        0  Piecemeal\n",
      "13              21        0  Piecemeal\n",
      "14              22        0  Piecemeal\n",
      "15              23        0  Piecemeal\n",
      "16              24        0  Piecemeal\n",
      "17              25        0  Piecemeal\n",
      "18              26        0  Piecemeal\n",
      "19              27        0  Piecemeal\n",
      "20              28        1   Holistic\n",
      "21              29        0  Piecemeal\n",
      "22               3        0  Piecemeal\n",
      "23              30        0  Piecemeal\n",
      "24              31        0  Piecemeal\n",
      "25              32        0  Piecemeal\n",
      "26              33        0  Piecemeal\n",
      "27              34        1   Holistic\n",
      "28              35        0  Piecemeal\n",
      "29              36        0  Piecemeal\n",
      "30              37        1   Holistic\n",
      "31              38        0  Piecemeal\n",
      "32               4        0  Piecemeal\n",
      "33               5        0  Piecemeal\n",
      "34               6        0  Piecemeal\n",
      "35               7        0  Piecemeal\n",
      "36               8        0  Piecemeal\n",
      "37               9        0  Piecemeal\n"
     ]
    }
   ],
   "source": [
    "holistic_cluster = cluster_means[\"fixation_mean\"].idxmax() if cluster_means.loc[cluster_means[\"fixation_mean\"].idxmax(), \"n_saccades\"] < cluster_means[\"n_saccades\"].mean() else cluster_means[\"n_saccades\"].idxmin()\n",
    "\n",
    "df['strategy'] = df['cluster'].apply(lambda x: 'Holistic' if x == holistic_cluster else 'Piecemeal')\n",
    "\n",
    "print(\"\\nStrategy assigned:\")\n",
    "print(df[['participant_id', 'cluster', 'strategy']])"
   ]
  },
  {
   "cell_type": "code",
   "execution_count": null,
   "id": "536d0796",
   "metadata": {},
   "outputs": [],
   "source": [
    "with open('../src/models/kmeans_model.pkl', 'wb') as f:\n",
    "    pickle.dump(kmeans, f)\n",
    "\n",
    "print('KMeans model saved successfully using pickle!')"
   ]
  }
 ],
 "metadata": {
  "kernelspec": {
   "display_name": ".venv",
   "language": "python",
   "name": "python3"
  },
  "language_info": {
   "codemirror_mode": {
    "name": "ipython",
    "version": 3
   },
   "file_extension": ".py",
   "mimetype": "text/x-python",
   "name": "python",
   "nbconvert_exporter": "python",
   "pygments_lexer": "ipython3",
   "version": "3.14.0"
  }
 },
 "nbformat": 4,
 "nbformat_minor": 5
}
